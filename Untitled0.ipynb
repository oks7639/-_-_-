{
  "nbformat": 4,
  "nbformat_minor": 0,
  "metadata": {
    "colab": {
      "name": "Untitled0.ipynb",
      "provenance": [],
      "authorship_tag": "ABX9TyOUi/ENXQz2K4iVxygKMadX",
      "include_colab_link": true
    },
    "kernelspec": {
      "name": "python3",
      "display_name": "Python 3"
    },
    "language_info": {
      "name": "python"
    }
  },
  "cells": [
    {
      "cell_type": "markdown",
      "metadata": {
        "id": "view-in-github",
        "colab_type": "text"
      },
      "source": [
        "<a href=\"https://colab.research.google.com/github/oks7639/trick_or_treat/blob/main/Untitled0.ipynb\" target=\"_parent\"><img src=\"https://colab.research.google.com/assets/colab-badge.svg\" alt=\"Open In Colab\"/></a>"
      ]
    },
    {
      "cell_type": "code",
      "metadata": {
        "colab": {
          "base_uri": "https://localhost:8080/"
        },
        "id": "J7ViiFnNoey7",
        "outputId": "1604a32b-74e4-46c0-885d-a3ae4867a885"
      },
      "source": [
        "a = float(input('по шкале от 0 до 10, напишите, насколько Вы устали: '))\n",
        "\n",
        "if a < 0.7:\n",
        "    print('Кажется, Вы совсем не устали')\n",
        "\n",
        "elif 0.7 <= a <= 10.0:\n",
        "    print('Вы немного устали')\n",
        "else:\n",
        "  print(\"Вы очень устали\")\n",
        "\n",
        "\n",
        "# Ваш код дальше:"
      ],
      "execution_count": 16,
      "outputs": [
        {
          "output_type": "stream",
          "name": "stdout",
          "text": [
            "по шкале от 0 до 10, напишите, насколько Вы устали: 56\n",
            "Вы очень устали\n"
          ]
        }
      ]
    },
    {
      "cell_type": "code",
      "metadata": {
        "id": "G7VAu95zokAK"
      },
      "source": [
        ""
      ],
      "execution_count": null,
      "outputs": []
    }
  ]
}