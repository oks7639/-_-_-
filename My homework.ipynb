{
  "nbformat": 4,
  "nbformat_minor": 0,
  "metadata": {
    "colab": {
      "name": "Untitled0.ipynb",
      "provenance": [],
      "authorship_tag": "ABX9TyMF17ZIKWXCmAYSynY3B+Ci",
      "include_colab_link": true
    },
    "kernelspec": {
      "name": "python3",
      "display_name": "Python 3"
    },
    "language_info": {
      "name": "python"
    }
  },
  "cells": [
    {
      "cell_type": "markdown",
      "metadata": {
        "id": "view-in-github",
        "colab_type": "text"
      },
      "source": [
        "<a href=\"https://colab.research.google.com/github/oks7639/trick_or_treat/blob/main/My%20homework.ipynb\" target=\"_parent\"><img src=\"https://colab.research.google.com/assets/colab-badge.svg\" alt=\"Open In Colab\"/></a>"
      ]
    },
    {
      "cell_type": "code",
      "metadata": {
        "colab": {
          "base_uri": "https://localhost:8080/"
        },
        "id": "J7ViiFnNoey7",
        "outputId": "accf732e-037c-4a39-d817-11d75d7a4337"
      },
      "source": [
        "#Задание 1 (условие if-elif-else)\n",
        "\n",
        "a = float(input('по шкале от 0 до 10, напишите, насколько Вы устали: '))\n",
        "\n",
        "if a <= 3:\n",
        "    print('Кажется, Вы совсем не устали')\n",
        "  \n",
        "elif 4 <= a <= 6:\n",
        "    print('Вы немного устали')\n",
        "\n",
        "elif 7 <= a <= 8:\n",
        "  print('Вы сильно устали')\n",
        "\n",
        "else:\n",
        "  print(\"Вам следует немедленно отдохнуть\")\n",
        "\n"
      ],
      "execution_count": 5,
      "outputs": [
        {
          "output_type": "stream",
          "name": "stdout",
          "text": [
            "по шкале от 0 до 10, напишите, насколько Вы устали: 9\n",
            "Вам следует немедленно отдохнуть\n"
          ]
        }
      ]
    },
    {
      "cell_type": "code",
      "metadata": {
        "id": "G7VAu95zokAK",
        "colab": {
          "base_uri": "https://localhost:8080/"
        },
        "outputId": "f4bbd068-b982-442b-d396-1bbbcd8d289c"
      },
      "source": [
        "# Задание 3 (словари)\n",
        "\n",
        "# Алиса коллекционирует открытки, которые она получила из разных стран от друзей. Она знает, что Мария прислала ей открытку из Лондона, Лоренцо -- из Милана, Олег - из Канберры, Ханс -- из Кальгари, Марк -- тоже из Милана, Алекс - из Кракова, и совсем недавно пришла открытка от Юлии из Мурманска.\n",
        "# Сейчас ее архив выглядит вот так:\n",
        "postcards = {\n",
        "    \"Maria\":\"London\",\n",
        "    \"Lorenzo\":\"Milan\",\n",
        "    \"Oleg\":\"Canberra\",\n",
        "    \"Hans\":\"Calgary\",\n",
        "    \"Mark\":\"Milan\",\n",
        "    \"Alex\":\"Krakow\",\n",
        "    \"Julia\":\"Murmansk\"\n",
        "\n",
        "}\n",
        "\n",
        "postcards['Oleg'] = 'Sydney'\n",
        "\n",
        "# print(postcards.values())\n",
        "# print(postcards.keys())\n",
        "\n",
        "# values = list(postcards.values())  \n",
        "# keys = list(postcards.keys())\n",
        "\n",
        "# new_postcards = {\"Petra\":\"Paris\", \"Ivan\":\"Moscow\"}\n",
        "postcards.update(new_postcards)\n",
        "# print(new_postcards)\n",
        "print (postcards)\n",
        "\n",
        "list(postcards.items())\n",
        "\n",
        "len(postcards.keys())\n",
        "\n",
        "# Однажды Алиса показала Вам свою бумажную коллекцию, и Вы заметили неточности:\n",
        "# в архиве не хватает двух открыток: от Петры из Парижа и от Ивана из Москвы. Добавьте их в архив Алисы.\n",
        "# открытка, присланная Олегом на самом деле не из Канберры, а из Сиднея. Исправьте город на верный, изменив значение по ключу в словаре.\n",
        "# Алиса говорит, что в ее коллекции более 10 уникальных городов. Сколько их на самом деле? Выведите названия этих городов.\n",
        "  "
      ],
      "execution_count": 269,
      "outputs": [
        {
          "output_type": "stream",
          "name": "stdout",
          "text": [
            "{'Maria': 'London', 'Lorenzo': 'Milan', 'Oleg': 'Sydney', 'Hans': 'Calgary', 'Mark': 'Milan', 'Alex': 'Krakow', 'Julia': 'Murmansk', 'Petra': 'Paris', 'Ivan': 'Moscow'}\n"
          ]
        },
        {
          "output_type": "execute_result",
          "data": {
            "text/plain": [
              "9"
            ]
          },
          "metadata": {},
          "execution_count": 269
        }
      ]
    },
    {
      "cell_type": "code",
      "metadata": {
        "id": "RK14FWKl_1QU"
      },
      "source": [
        "# #Задание 2 (списки и циклы)\n",
        "\n",
        "# # Робот, выбирающий пользователю коктейль:\n",
        "# # Представьте, что Вы разрабатываете (фрагмент) электронного помощника для ресторана.\n",
        "# # У Вас есть список коктейлей, где каждый коктейль представлен в виде списка ингридиентов (у нас получается список списков). Программа рандомным образом должна выбрать один из коктейлей (т.е. один из списков в общем списке) и вывести на экран сообщение: \"Сегодня в вашем коктейле будет: \" и сам список ингридиентов\n",
        "# # Но есть одно условие: в некоторые из списков по ошибке попал \"лосось\". Строку \"лосось\" нужно убрать (здесь вам поможет один метод работы со списками) ,но так как лосось есть не везде, нужно предварительно проверить его наличие в списке.\n",
        "\n",
        "# import random\n",
        "\n",
        "# cocktails = [\n",
        "#     [\"мартини\",\"грейпфрутовый сок\",\"жасмин\",\"тоник\",\"лосось\"],\n",
        "#     [\"клубника\",\"какао\",\"мята\",\"марсала\"],\n",
        "#     [\"водка\",\"томатный сок\",\"лимонный сок\",\"вустерширский соус\",\"черный перец\",\"сельдерей\",\"лосось\"],\n",
        "#     [\"джин\",\"вермут\",\"ликер мараскино\",\"апельсины\",\"коктейльная вишня\",\"лосось\"],\n",
        "#     [\"ром\",\"авокадо\",\"сахарный сироп\",\"сливки\",\"лимонный сок\",\"лед\"],\n",
        "#     [\"красный вермут\",\"тоник\",\"апельсины\",\"лосось\"],\n",
        "#     [\"только чай\"]\n",
        "#         ]\n"
      ],
      "execution_count": null,
      "outputs": []
    }
  ]
}