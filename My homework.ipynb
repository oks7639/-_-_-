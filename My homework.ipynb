{
  "nbformat": 4,
  "nbformat_minor": 0,
  "metadata": {
    "colab": {
      "name": "Untitled0.ipynb",
      "provenance": [],
      "authorship_tag": "ABX9TyPOlUvDy5YaLaez2EXFWzJN",
      "include_colab_link": true
    },
    "kernelspec": {
      "name": "python3",
      "display_name": "Python 3"
    },
    "language_info": {
      "name": "python"
    }
  },
  "cells": [
    {
      "cell_type": "markdown",
      "metadata": {
        "id": "view-in-github",
        "colab_type": "text"
      },
      "source": [
        "<a href=\"https://colab.research.google.com/github/oks7639/trick_or_treat/blob/main/My%20homework.ipynb\" target=\"_parent\"><img src=\"https://colab.research.google.com/assets/colab-badge.svg\" alt=\"Open In Colab\"/></a>"
      ]
    },
    {
      "cell_type": "code",
      "metadata": {
        "colab": {
          "base_uri": "https://localhost:8080/"
        },
        "id": "J7ViiFnNoey7",
        "outputId": "49cc29c3-75b1-4d35-f63f-5e0095464068"
      },
      "source": [
        "a = float(input('по шкале от 0 до 10, напишите, насколько Вы устали: '))\n",
        "\n",
        "if a <= 3:\n",
        "    print('Кажется, Вы совсем не устали')\n",
        "  \n",
        "elif 4 <= a <= 6:\n",
        "    print('Вы немного устали')\n",
        "\n",
        "elif 7 <= a <= 8:\n",
        "  print('Вы сильно устали')\n",
        "\n",
        "else:\n",
        "  print(\"Вам следует немедленно отдохнуть\")\n",
        "\n",
        "\n",
        "# Ваш код дальше:"
      ],
      "execution_count": 1,
      "outputs": [
        {
          "output_type": "stream",
          "name": "stdout",
          "text": [
            "по шкале от 0 до 10, напишите, насколько Вы устали: 7\n",
            "Вы сильно устали\n"
          ]
        }
      ]
    },
    {
      "cell_type": "code",
      "metadata": {
        "id": "G7VAu95zokAK"
      },
      "source": [
        ""
      ],
      "execution_count": null,
      "outputs": []
    }
  ]
}