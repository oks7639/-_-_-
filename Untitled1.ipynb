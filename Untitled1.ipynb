{
  "nbformat": 4,
  "nbformat_minor": 0,
  "metadata": {
    "colab": {
      "name": "Untitled1.ipynb",
      "provenance": [],
      "authorship_tag": "ABX9TyOvPbgYb1FuGS3hKGuQq2fC",
      "include_colab_link": true
    },
    "kernelspec": {
      "name": "python3",
      "display_name": "Python 3"
    },
    "language_info": {
      "name": "python"
    }
  },
  "cells": [
    {
      "cell_type": "markdown",
      "metadata": {
        "id": "view-in-github",
        "colab_type": "text"
      },
      "source": [
        "<a href=\"https://colab.research.google.com/github/oks7639/trick_or_treat/blob/main/Untitled1.ipynb\" target=\"_parent\"><img src=\"https://colab.research.google.com/assets/colab-badge.svg\" alt=\"Open In Colab\"/></a>"
      ]
    },
    {
      "cell_type": "code",
      "metadata": {
        "colab": {
          "base_uri": "https://localhost:8080/"
        },
        "id": "jtQRYg7Rkgni",
        "outputId": "726e8a6c-bc01-4751-8047-337330fabbb1"
      },
      "source": [
        "# Тренировочная задача\n",
        "# Определяем лучшего писателя отзывов. У вас есть четрые отзыва на фильм С.Кубрика \"Сияние\". Вам нужно определить, кто из авторов отзывов написал отзыв с наибольшим количеством уникальных слов.\n",
        "\n",
        "# Для определения вам нужно: (для каждого автора)\n",
        "\n",
        "# 1. Предобработать строку (см методы строк), сведя все к нижнему регистру, убрать пунктуацию.\n",
        "\n",
        "# 2. Превратить строку в список \n",
        "# 3. Оставить уникальные элементы в списке (превратить список во множество)\n",
        "# 4. Определить размер такого множества\n",
        "\n",
        "import string\n",
        "\n",
        "paul = \"When this film first came out in 1980, I remember going to see it on opening night. This movie just scared the life out of me, which is what still happens every time. I rent the video for a re-watch.I have seen The Shining at least six or seven times, and I still believe it to be simultaneously and paradoxically one of the most frightening and yet funniest films I've ever seen. Frightening because of the extraordinarily effective use of long shots to create feelings of isolation, convex lens shots to enhance surrealism, and meticulously scored music to bring tension levels to virtually unbearable levels. And \\\"funny\\\" because of Jack Nicholson's outrageous and in many cases ad-libbed onscreen antics. It never ceases to amaze me how The Shining is actually two films in one, both a comedy AND a horror flick. Ghostly apparitions of a strikingly menacing nature haunt much of the first half of the film, which gradually evolve into ever more serious physical threats as time progresses. Be that as it may, there is surprisingly little violence given the apparent intensity, but that is little comfort for the feint of heart as much of the terror is more implied than manifest. The Shining is a truly frightening movie that works symbolically on many levels, but is basically  about human shortcomings and the way they can be exploited by unconscious forces combined with weakness of will. This film scares the most just by using suggestion to turn your own imagination against you. The Shining is a brilliant cinematic masterpiece, the likes of which have never been seen before or since. Highly, highly recommended.\"\n",
        "paul1 = [When this film first came out in 1980, I remember going to see it on opening night. This movie just scared the l\n",
        "\n",
        "# print (f'List of Words = {paul.split ()}')\n",
        "# my_set=list(List of Words)\n",
        "# print(my_set)\n",
        "\n",
        "my_list\n",
        "paul=paul.split(',')\n",
        "\n"
      ],
      "execution_count": 48,
      "outputs": [
        {
          "output_type": "stream",
          "name": "stdout",
          "text": [
            "List of Words = ['When', 'this', 'film', 'first', 'came', 'out', 'in', '1980,', 'I', 'remember', 'going', 'to', 'see', 'it', 'on', 'opening', 'night.', 'This', 'movie', 'just', 'scared', 'the', 'life', 'out', 'of', 'me,', 'which', 'is', 'what', 'still', 'happens', 'every', 'time.', 'I', 'rent', 'the', 'video', 'for', 'a', 're-watch.I', 'have', 'seen', 'The', 'Shining', 'at', 'least', 'six', 'or', 'seven', 'times,', 'and', 'I', 'still', 'believe', 'it', 'to', 'be', 'simultaneously', 'and', 'paradoxically', 'one', 'of', 'the', 'most', 'frightening', 'and', 'yet', 'funniest', 'films', \"I've\", 'ever', 'seen.', 'Frightening', 'because', 'of', 'the', 'extraordinarily', 'effective', 'use', 'of', 'long', 'shots', 'to', 'create', 'feelings', 'of', 'isolation,', 'convex', 'lens', 'shots', 'to', 'enhance', 'surrealism,', 'and', 'meticulously', 'scored', 'music', 'to', 'bring', 'tension', 'levels', 'to', 'virtually', 'unbearable', 'levels.', 'And', '\"funny\"', 'because', 'of', 'Jack', \"Nicholson's\", 'outrageous', 'and', 'in', 'many', 'cases', 'ad-libbed', 'onscreen', 'antics.', 'It', 'never', 'ceases', 'to', 'amaze', 'me', 'how', 'The', 'Shining', 'is', 'actually', 'two', 'films', 'in', 'one,', 'both', 'a', 'comedy', 'AND', 'a', 'horror', 'flick.', 'Ghostly', 'apparitions', 'of', 'a', 'strikingly', 'menacing', 'nature', 'haunt', 'much', 'of', 'the', 'first', 'half', 'of', 'the', 'film,', 'which', 'gradually', 'evolve', 'into', 'ever', 'more', 'serious', 'physical', 'threats', 'as', 'time', 'progresses.', 'Be', 'that', 'as', 'it', 'may,', 'there', 'is', 'surprisingly', 'little', 'violence', 'given', 'the', 'apparent', 'intensity,', 'but', 'that', 'is', 'little', 'comfort', 'for', 'the', 'feint', 'of', 'heart', 'as', 'much', 'of', 'the', 'terror', 'is', 'more', 'implied', 'than', 'manifest.', 'The', 'Shining', 'is', 'a', 'truly', 'frightening', 'movie', 'that', 'works', 'symbolically', 'on', 'many', 'levels,', 'but', 'is', 'basically', 'about', 'human', 'shortcomings', 'and', 'the', 'way', 'they', 'can', 'be', 'exploited', 'by', 'unconscious', 'forces', 'combined', 'with', 'weakness', 'of', 'will.', 'This', 'film', 'scares', 'the', 'most', 'just', 'by', 'using', 'suggestion', 'to', 'turn', 'your', 'own', 'imagination', 'against', 'you.', 'The', 'Shining', 'is', 'a', 'brilliant', 'cinematic', 'masterpiece,', 'the', 'likes', 'of', 'which', 'have', 'never', 'been', 'seen', 'before', 'or', 'since.', 'Highly,', 'highly', 'recommended.']\n"
          ]
        }
      ]
    },
    {
      "cell_type": "code",
      "metadata": {
        "id": "pwFU5F1Gkyoz"
      },
      "source": [
        ""
      ],
      "execution_count": null,
      "outputs": []
    }
  ]
}