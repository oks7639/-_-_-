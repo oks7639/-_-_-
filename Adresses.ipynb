{
  "nbformat": 4,
  "nbformat_minor": 0,
  "metadata": {
    "colab": {
      "name": "Untitled5.ipynb",
      "provenance": [],
      "authorship_tag": "ABX9TyPxZSSpV328KlQjwzo7CTB4",
      "include_colab_link": true
    },
    "kernelspec": {
      "name": "python3",
      "display_name": "Python 3"
    },
    "language_info": {
      "name": "python"
    }
  },
  "cells": [
    {
      "cell_type": "markdown",
      "metadata": {
        "id": "view-in-github",
        "colab_type": "text"
      },
      "source": [
        "<a href=\"https://colab.research.google.com/github/oks7639/trick_or_treat/blob/main/Adresses.ipynb\" target=\"_parent\"><img src=\"https://colab.research.google.com/assets/colab-badge.svg\" alt=\"Open In Colab\"/></a>"
      ]
    },
    {
      "cell_type": "code",
      "metadata": {
        "colab": {
          "base_uri": "https://localhost:8080/"
        },
        "id": "IRJ1TslyI0og",
        "outputId": "5cfe4fd9-b55f-47bc-abd9-997c910423df"
      },
      "source": [
        "import re\n",
        "\n",
        "\n",
        "text = \"\"\"Nordstrom Rack and HauteLook\n",
        "Nordstrom Rack is the off-price retail division of Nordstrom Inc., which was founded in 1901 in Seattle, Washington, by John W. Nordstrom.\n",
        "\n",
        "Nordstrom encourages contact from its customers and has supplied contact details to us.\n",
        "\n",
        "700 S. Flower Street\n",
        "Suite 1700\n",
        "Los Angeles, CA 90017\n",
        "https://www.nordstromrack.com/\n",
        "\n",
        "Phone Contacts\n",
        "Main: (206) 628-2111\n",
        "Customer Service: (888)966-6283\n",
        "International: (319) 846-4140\n",
        "\n",
        "Nordstrom Customer Service: (888)282-6060\n",
        "\n",
        " \n",
        "\n",
        "Email Contacts\n",
        "Contact@nordstrom.com\n",
        "\n",
        "Social Media Contacts\n",
        "Facebook\n",
        "Twitter\n",
        "\n",
        "Executive Contacts\n",
        "Primary Contact\n",
        "Andrew Breen\n",
        "Director Customer Care\n",
        "700 S. Flower Street\n",
        "Suite 1700\n",
        "Los Angeles, CA 90017\n",
        "Andrew.Breen@HauteLook.com\n",
        "\n",
        "Secondary Contact\n",
        "James F. Nordstrom\n",
        "Executive Vice President and President of Nordstrom Stores\n",
        "1600 Seventh Avenue\n",
        "Suite 2600\n",
        "Seattle, WA 98101\n",
        "Jamie.nordstrom@nordstrom.com\n",
        "\n",
        "Geevy Thomas\n",
        "President of Nordstrom Rack\n",
        "1600 Seventh Avenue\n",
        "Suite 2600\n",
        "Seattle, WA 98101\n",
        "Geevy.Thomas@nordstrom.com\n",
        "\n",
        "Chief Executive\n",
        "See Notes Below\n",
        "700 S. Flower Street\n",
        "Suite 1700\n",
        "Los Angeles, CA 90017\n",
        "\n",
        "Erik B. Nordstrom\n",
        "Co-President\n",
        "erik.nordstrom@nordstrom.com\n",
        "\n",
        "Peter E. Nordstrom\n",
        "Co-President\n",
        "Pete.Nordstrom@nordstrom.com\"\"\"\n",
        "\n",
        "re.findall(r\"\\d+ [A-Z][A-Z|a-z|\\.|\\,\\s]+\\d+[\\n][A-Z][A-Z|a-z|\\.|\\,|\\s]+\\d+\", text)\n",
        "\n",
        "\n"
      ],
      "execution_count": 31,
      "outputs": [
        {
          "output_type": "execute_result",
          "data": {
            "text/plain": [
              "['700 S. Flower Street\\nSuite 1700\\nLos Angeles, CA 90017',\n",
              " '700 S. Flower Street\\nSuite 1700\\nLos Angeles, CA 90017',\n",
              " '1600 Seventh Avenue\\nSuite 2600\\nSeattle, WA 98101',\n",
              " '1600 Seventh Avenue\\nSuite 2600\\nSeattle, WA 98101',\n",
              " '700 S. Flower Street\\nSuite 1700\\nLos Angeles, CA 90017']"
            ]
          },
          "metadata": {},
          "execution_count": 31
        }
      ]
    },
    {
      "cell_type": "code",
      "metadata": {
        "id": "53x3bYk8LSGb"
      },
      "source": [
        ""
      ],
      "execution_count": null,
      "outputs": []
    }
  ]
}